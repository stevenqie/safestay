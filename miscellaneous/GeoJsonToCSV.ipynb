{
 "cells": [
  {
   "cell_type": "code",
   "execution_count": null,
   "metadata": {
    "colab": {
     "base_uri": "https://localhost:8080/"
    },
    "executionInfo": {
     "elapsed": 1036,
     "status": "ok",
     "timestamp": 1733511920724,
     "user": {
      "displayName": "Neha Vardhaman",
      "userId": "17572996380830883532"
     },
     "user_tz": 360
    },
    "id": "pOBOkMaO1Be5",
    "outputId": "ffb422dd-4b4a-481f-fd9d-efa6e108b8bd"
   },
   "outputs": [],
   "source": [
    "import geopandas as gpd\n",
    "import pandas as pd\n",
    "import numpy as np\n",
    "\n",
    "geojson_file = '/content/drive/MyDrive/CS 411/GeoJSON files/Apartments.geojson'  # Path to your GeoJSON file\n",
    "csv_file = 'Apartments.csv'  # Output CSV file\n",
    "specific_fields = ['Address']  # Fields you want to keep\n",
    "\n",
    "# Read the GeoJSON file\n",
    "gdf = gpd.read_file(geojson_file)\n",
    "gdf = gdf.to_crs(epsg=4326)\n",
    "\n",
    "# Calculate the centroids of the geometries\n",
    "print(gdf.iloc[0].geometry)\n",
    "gdf['centroid'] = gdf.geometry.centroid\n",
    "\n",
    "# Extract latitude and longitude from centroids\n",
    "gdf['latitude'] = gdf['centroid'].y\n",
    "gdf['longitude'] = gdf['centroid'].x\n",
    "\n",
    "# Create a DataFrame with specific fields and centroid coordinates\n",
    "df = gdf[specific_fields + ['latitude', 'longitude']]\n",
    "\n",
    "# Save the DataFrame to a CSV file\n",
    "df.to_csv(csv_file, index=False)\n",
    "print(f\"Conversion completed. The CSV file is saved as {csv_file}.\")"
   ]
  },
  {
   "cell_type": "code",
   "execution_count": null,
   "metadata": {
    "colab": {
     "base_uri": "https://localhost:8080/"
    },
    "executionInfo": {
     "elapsed": 1518,
     "status": "ok",
     "timestamp": 1733511930699,
     "user": {
      "displayName": "Neha Vardhaman",
      "userId": "17572996380830883532"
     },
     "user_tz": 360
    },
    "id": "B3LMs8Y-5Cmr",
    "outputId": "ef090757-889f-4be5-98b3-9846e1e67a49"
   },
   "outputs": [],
   "source": [
    "from google.colab import drive\n",
    "drive.mount('/content/drive')"
   ]
  },
  {
   "cell_type": "code",
   "execution_count": null,
   "metadata": {
    "colab": {
     "base_uri": "https://localhost:8080/"
    },
    "executionInfo": {
     "elapsed": 1374,
     "status": "ok",
     "timestamp": 1733511949245,
     "user": {
      "displayName": "Neha Vardhaman",
      "userId": "17572996380830883532"
     },
     "user_tz": 360
    },
    "id": "q7lsi6qOZbvI",
    "outputId": "92163665-dc18-434b-abeb-7496260790cd"
   },
   "outputs": [],
   "source": [
    "import random\n",
    "\n",
    "# Load GeoJSON data\n",
    "geojson_file = '/content/drive/MyDrive/CS 411/GeoJSON files/Apartments.geojson'\n",
    "csv_file = 'Apartments_with_block.csv'\n",
    "specific_fields = ['address', 'safestay_score']\n",
    "\n",
    "# Read the GeoJSON file\n",
    "gdf = gpd.read_file(geojson_file)\n",
    "gdf = gdf.to_crs(epsg=4326)  # Project to a metric CRS (e.g., EPSG:3857)\n",
    "\n",
    "# Calculate centroids\n",
    "gdf['centroid'] = gdf.geometry.centroid\n",
    "gdf['latitude'] = gdf['centroid'].y\n",
    "gdf['longitude'] = gdf['centroid'].x\n",
    "\n",
    "# Get the bounding box (min_x, min_y, max_x, max_y)\n",
    "minx, miny, maxx, maxy = gdf.total_bounds\n",
    "print(f\"Bounding box: {minx}, {miny}, {maxx}, {maxy}\")\n",
    "\n",
    "# Define the number of grid cells in the x and y direction\n",
    "num_cells_x = 10  # Adjust as needed\n",
    "num_cells_y = 10  # Adjust as needed\n",
    "\n",
    "# Calculate the size of each cell\n",
    "cell_width = (maxx - minx) / num_cells_x\n",
    "cell_height = (maxy - miny) / num_cells_y\n",
    "\n",
    "# Assign each apartment to a grid cell\n",
    "def assign_grid_index(row, minx, miny, cell_width, cell_height, num_cells_x):\n",
    "    x_idx = int((row['longitude'] - minx) // cell_width)\n",
    "    y_idx = int((row['latitude'] - miny) // cell_height)\n",
    "\n",
    "    # Ensure that indices don't exceed the grid limits\n",
    "    x_idx = min(x_idx, num_cells_x - 1)\n",
    "    y_idx = min(y_idx, num_cells_y - 1)\n",
    "\n",
    "    # Convert the 2D index to a row-major 1D index\n",
    "    grid_index = y_idx * num_cells_x + x_idx\n",
    "    return grid_index\n",
    "\n",
    "# Apply the function to calculate the grid index for each apartment\n",
    "gdf['block'] = gdf.apply(assign_grid_index, axis=1,\n",
    "                              args=(minx, miny, cell_width, cell_height, num_cells_x))\n",
    "\n",
    "# Create a DataFrame with specific fields, centroid coordinates, and grid index\n",
    "gdf = gdf.drop_duplicates(subset=['Address'], keep='first')\n",
    "\n",
    "gdf['safestay_score'] = gdf.apply(lambda row: random.randint(0, 10), axis=1)\n",
    "\n",
    "gdf['address'] = gdf['Address']\n",
    "\n",
    "apartments_gdf = gdf\n",
    "\n",
    "df = gdf[specific_fields + ['latitude', 'longitude', 'block']]\n",
    "\n",
    "# Save the result to a CSV file\n",
    "df.to_csv(csv_file, index=False)\n",
    "print(f\"Conversion completed. The CSV file with grid indices is saved as {csv_file}.\")"
   ]
  },
  {
   "cell_type": "code",
   "execution_count": null,
   "metadata": {
    "colab": {
     "base_uri": "https://localhost:8080/"
    },
    "executionInfo": {
     "elapsed": 716,
     "status": "ok",
     "timestamp": 1733512072062,
     "user": {
      "displayName": "Neha Vardhaman",
      "userId": "17572996380830883532"
     },
     "user_tz": 360
    },
    "id": "saP3X7lXbD4L",
    "outputId": "0f7cd993-8335-4974-bcf8-e7e7bc57e314"
   },
   "outputs": [],
   "source": [
    "geojson_file = '/content/drive/MyDrive/CS 411/GeoJSON files/Streetlights.geojson'  # Path to your GeoJSON file\n",
    "csv_file = 'Streetlights_with_block.csv'  # Output CSV file\n",
    "specific_fields = ['streetlight_id', 'pole_material', 'wattage', 'height', 'color']  # Fields you want to keep\n",
    "\n",
    "# Read the GeoJSON file\n",
    "gdf = gpd.read_file(geojson_file)\n",
    "gdf = gdf.to_crs(epsg=4326)\n",
    "\n",
    "# Calculate the centroids of the geometries\n",
    "gdf['centroid'] = gdf.geometry.centroid\n",
    "\n",
    "# Extract latitude and longitude from centroids\n",
    "gdf['latitude'] = gdf['centroid'].y\n",
    "gdf['longitude'] = gdf['centroid'].x\n",
    "\n",
    "gdf['block'] = gdf.apply(assign_grid_index, axis=1,\n",
    "                              args=(minx, miny, cell_width, cell_height, num_cells_x))\n",
    "gdf['streetlight_id'] = gdf['OBJECTID']\n",
    "gdf['wattage'] = gdf['Lamp_Wattage'].str.extract('(\\d+)')\n",
    "gdf['wattage'] = pd.to_numeric(gdf['wattage'], errors='coerce')\n",
    "gdf['pole_material'] = gdf['Pole_Material']\n",
    "gdf['height'] = gdf['Pole_Height']\n",
    "gdf['color'] = gdf['Pole_Color']\n",
    "\n",
    "# Create a DataFrame with specific fields and centroid coordinates\n",
    "df = gdf[specific_fields + ['latitude', 'longitude', 'block']]\n",
    "\n",
    "# Save the DataFrame to a CSV file\n",
    "df.to_csv(csv_file, index=False)\n",
    "print(f\"Conversion completed. The CSV file is saved as {csv_file}.\")"
   ]
  },
  {
   "cell_type": "code",
   "execution_count": null,
   "metadata": {
    "colab": {
     "base_uri": "https://localhost:8080/"
    },
    "executionInfo": {
     "elapsed": 726,
     "status": "ok",
     "timestamp": 1733512081508,
     "user": {
      "displayName": "Neha Vardhaman",
      "userId": "17572996380830883532"
     },
     "user_tz": 360
    },
    "id": "dOy8Lwtp-fme",
    "outputId": "eed971a0-2065-4b13-8488-f762a1cdb06d"
   },
   "outputs": [],
   "source": [
    "geojson_file = '/content/drive/MyDrive/CS 411/GeoJSON files/pedestrian_crashes.json'  # Path to your GeoJSON file\n",
    "csv_file = 'Crash_with_block.csv'  # Output CSV file\n",
    "specific_fields = ['crash_id', 'crash_severity', 'traffic_control', 'year', 'road_surface']  # Fields you want to keep\n",
    "\n",
    "# Read the GeoJSON file\n",
    "gdf = gpd.read_file(geojson_file)\n",
    "gdf = gdf.to_crs(epsg=4326)\n",
    "\n",
    "# Calculate the centroids of the geometries\n",
    "gdf['centroid'] = gdf.geometry.centroid\n",
    "\n",
    "# Extract latitude and longitude from centroids\n",
    "gdf['latitude'] = gdf['centroid'].y\n",
    "gdf['longitude'] = gdf['centroid'].x\n",
    "\n",
    "gdf['block'] = gdf.apply(assign_grid_index, axis=1,\n",
    "                              args=(minx, miny, cell_width, cell_height, num_cells_x))\n",
    "gdf['crash_id'] = range(1, len(gdf) + 1)\n",
    "\n",
    "# Create a DataFrame with specific fields and centroid coordinates\n",
    "df = gdf[specific_fields + ['latitude', 'longitude', 'block']]\n",
    "\n",
    "# Save the DataFrame to a CSV file\n",
    "df.to_csv(csv_file, index=False)\n",
    "print(f\"Conversion completed. The CSV file is saved as {csv_file}.\")"
   ]
  },
  {
   "cell_type": "code",
   "execution_count": null,
   "metadata": {
    "colab": {
     "base_uri": "https://localhost:8080/"
    },
    "executionInfo": {
     "elapsed": 228,
     "status": "ok",
     "timestamp": 1730153235044,
     "user": {
      "displayName": "Neha Vardhaman",
      "userId": "17572996380830883532"
     },
     "user_tz": 300
    },
    "id": "wffSRdS8Aqib",
    "outputId": "cc8aa268-5919-4304-9946-dc5c87f6a993"
   },
   "outputs": [],
   "source": [
    "csv_file = 'Location.csv'  # Output CSV file\n",
    "df = pd.DataFrame({\n",
    "    'block': np.arange(100),\n",
    "    'has_police_station': np.random.choice([0, 1], size=100)\n",
    "})\n",
    "df.to_csv(csv_file, index=False)\n",
    "print(f\"Conversion completed. The CSV file is saved as {csv_file}.\")"
   ]
  },
  {
   "cell_type": "code",
   "execution_count": null,
   "metadata": {
    "id": "p-JijX4uCxvl"
   },
   "outputs": [],
   "source": [
    "import pandas as pd\n",
    "import random\n",
    "import string\n",
    "\n",
    "csv_file = 'Users.csv'\n",
    "\n",
    "# Helper functions to generate random data\n",
    "def random_string(length):\n",
    "    return ''.join(random.choices(string.ascii_letters, k=length))\n",
    "\n",
    "def generate_users(num_users):\n",
    "    users = []\n",
    "    for i in range(num_users):\n",
    "        username = f\"user{i+1}\"\n",
    "        password = random_string(10)\n",
    "        first_name = random_string(7)\n",
    "        last_name = random_string(7)\n",
    "        users.append([username, password, first_name, last_name])\n",
    "    return users\n",
    "\n",
    "# Create the users DataFrame\n",
    "num_users = 500\n",
    "user_df = pd.DataFrame(generate_users(num_users), columns=['username', 'password', 'first_name', 'last_name'])\n",
    "user_df.head()\n",
    "\n",
    "user_df.to_csv(csv_file, index=False)"
   ]
  },
  {
   "cell_type": "code",
   "execution_count": null,
   "metadata": {
    "id": "aaBxSuWB4mK6"
   },
   "outputs": [],
   "source": [
    "csv_file = 'Ratings.csv'\n",
    "\n",
    "# Assuming gdf contains the list of apartments with addresses\n",
    "apartment_addresses = apartments_gdf['address'].tolist()\n",
    "\n",
    "# Helper function to generate random ratings for each user\n",
    "def generate_ratings(user_df, apartment_addresses, ratings_per_user):\n",
    "    ratings = []\n",
    "    for _, row in user_df.iterrows():\n",
    "        username = row['username']\n",
    "        addresses_sample = random.sample(apartment_addresses, ratings_per_user)\n",
    "        for address in addresses_sample:\n",
    "            rating = random.randint(0, 10)  # Ratings between 1 and 5\n",
    "            ratings.append([username, address, rating])\n",
    "    return ratings\n",
    "\n",
    "# Create the ratings DataFrame\n",
    "ratings_per_user = 10\n",
    "rating_df = pd.DataFrame(generate_ratings(user_df, apartment_addresses, ratings_per_user), columns=['username', 'address', 'rating'])\n",
    "rating_df.head()\n",
    "\n",
    "rating_df.to_csv(csv_file, index=False)"
   ]
  },
  {
   "cell_type": "code",
   "execution_count": null,
   "metadata": {
    "colab": {
     "base_uri": "https://localhost:8080/"
    },
    "executionInfo": {
     "elapsed": 171,
     "status": "ok",
     "timestamp": 1730151589395,
     "user": {
      "displayName": "Neha Vardhaman",
      "userId": "17572996380830883532"
     },
     "user_tz": 300
    },
    "id": "wa3wkfK16F3M",
    "outputId": "2a5c2ca2-5edf-4e02-ef73-8dd11907eaab"
   },
   "outputs": [],
   "source": [
    "len(rating_df)"
   ]
  },
  {
   "cell_type": "code",
   "execution_count": null,
   "metadata": {
    "id": "9oOEJeZpEiSB"
   },
   "outputs": [],
   "source": []
  }
 ],
 "metadata": {
  "colab": {
   "provenance": []
  },
  "kernelspec": {
   "display_name": "Python 3",
   "name": "python3"
  },
  "language_info": {
   "name": "python"
  }
 },
 "nbformat": 4,
 "nbformat_minor": 0
}
