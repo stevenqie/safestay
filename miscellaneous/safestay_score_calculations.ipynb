{
 "cells": [
  {
   "cell_type": "code",
   "execution_count": null,
   "metadata": {},
   "outputs": [],
   "source": [
    "import pandas as pd \n",
    "import numpy as np \n",
    "from geopy.distance import geodesic "
   ]
  },
  {
   "cell_type": "code",
   "execution_count": null,
   "metadata": {},
   "outputs": [],
   "source": [
    "streetlights_df = pd.read_csv(\"/Users/stevenqie/Downloads/Streetlights_with_block.csv\")\n",
    "locations_df = pd.read_csv(\"/Users/stevenqie/Downloads/Location.csv\")\n",
    "apartments_df = pd.read_csv(\"/Users/stevenqie/Downloads/Apartments_with_block.csv\")\n",
    "crashes_df = pd.read_csv(\"/Users/stevenqie/Downloads/Crash_with_block.csv\")"
   ]
  },
  {
   "cell_type": "code",
   "execution_count": null,
   "metadata": {},
   "outputs": [],
   "source": [
    "def calculate_distance(lat1, lon1, lat2, lon2):\n",
    "    return geodesic((lat1, lon1), (lat2, lon2)).meters\n",
    "\n",
    "proximity_radius = 500 #in meters "
   ]
  },
  {
   "cell_type": "code",
   "execution_count": null,
   "metadata": {},
   "outputs": [],
   "source": [
    "apartments_df.head()\n",
    "len(apartments_df)"
   ]
  },
  {
   "cell_type": "code",
   "execution_count": null,
   "metadata": {},
   "outputs": [],
   "source": [
    "streetlights_df.head()"
   ]
  },
  {
   "cell_type": "code",
   "execution_count": null,
   "metadata": {},
   "outputs": [],
   "source": [
    "# create a new column to store the number of streetlights within the proximity radius\n",
    "apartments_df['num_streetlights'] = 0 \n",
    "# create a new colum to store the average wattage of those streetlights within the proximity radius\n",
    "apartments_df['avg_wattage'] = 0\n",
    "\n",
    "#loop through each apartment \n",
    "for index1, apartment in apartments_df.iterrows():\n",
    "    print(index1)\n",
    "    #grab its lat and long \n",
    "    apartment_location = (apartment[\"latitude\"], apartment[\"longitude\"])\n",
    "    count = 0 \n",
    "    wattage_sum = 0 \n",
    "\n",
    "    #loop through each streetlight and calculate distance betweeen aparmtent and streetlight \n",
    "    for index2, streetlight in streetlights_df.iterrows():\n",
    "        streetlight_location = (streetlight[\"latitude\"], streetlight[\"longitude\"])\n",
    "        distance = calculate_distance(apartment_location[0], apartment_location[1], streetlight_location[0], streetlight_location[1])\n",
    "        #check if distance is less than proximity radius\n",
    "        if distance <= proximity_radius:\n",
    "            #add to count\n",
    "            count += 1 \n",
    "            wattage_sum += streetlight[\"wattage\"] if not np.isnan(streetlight[\"wattage\"]) else 0\n",
    "    apartments_df.loc[index1, 'num_streetlights'] = count\n",
    "    apartments_df.loc[index1, 'avg_wattage'] = wattage_sum / count if count > 0 else 0\n",
    "    print(f\"Apartment has {apartments_df.loc[index1, 'num_streetlights']} streetlights within {proximity_radius} meters\")\n",
    "    print(f\"Average wattage of streetlights around this apartment is {apartments_df.loc[index1, 'avg_wattage']} watts\")\n",
    "\n"
   ]
  },
  {
   "cell_type": "code",
   "execution_count": null,
   "metadata": {},
   "outputs": [],
   "source": [
    "apartments_df = apartments_df.iloc[:-1]\n",
    "apartments_df"
   ]
  },
  {
   "cell_type": "code",
   "execution_count": null,
   "metadata": {},
   "outputs": [],
   "source": [
    "crashes_df.head()"
   ]
  },
  {
   "cell_type": "code",
   "execution_count": null,
   "metadata": {},
   "outputs": [],
   "source": [
    "copy = apartments_df.copy()\n",
    "copy "
   ]
  },
  {
   "cell_type": "code",
   "execution_count": null,
   "metadata": {},
   "outputs": [],
   "source": [
    "#get crashes per block using group by \n",
    "crashes_df = pd.read_csv(\"/Users/stevenqie/Downloads/Crash_with_block.csv\")\n",
    "crashes_df = crashes_df.groupby(\"block\").size().reset_index(name='num_crashes')\n",
    "crashes_df = crashes_df[crashes_df['block'] >= 0]\n",
    "crashes_df = crashes_df.reset_index(drop=True)\n",
    "crashes_df\n"
   ]
  },
  {
   "cell_type": "code",
   "execution_count": null,
   "metadata": {},
   "outputs": [],
   "source": [
    "newone = pd.merge(copy, crashes_df, on='block', how='left')\n",
    "newone = newone.fillna(0)\n",
    "newone"
   ]
  },
  {
   "cell_type": "code",
   "execution_count": null,
   "metadata": {},
   "outputs": [],
   "source": [
    "#merge with locations to get whether or not an apartment has a police station in it's block \n",
    "extranewone = newone.merge(locations_df, on='block', how='left')\n",
    "extranewone = extranewone.fillna(0)\n",
    "extranewone"
   ]
  },
  {
   "cell_type": "code",
   "execution_count": null,
   "metadata": {},
   "outputs": [],
   "source": [
    "block_data = extranewone.copy()\n",
    "block_data.head()"
   ]
  },
  {
   "cell_type": "code",
   "execution_count": null,
   "metadata": {},
   "outputs": [],
   "source": [
    "block_data['streetlight_score'] = (block_data['num_streetlights'] - block_data['num_streetlights'].min()) / (block_data['num_streetlights'].max() - block_data['num_streetlights'].min())\n",
    "\n",
    "block_data['wattage_score'] = (block_data['avg_wattage'] - block_data['avg_wattage'].min()) / (block_data['avg_wattage'].max() - block_data['avg_wattage'].min())\n",
    "\n",
    "block_data['crash_score'] = (block_data['num_crashes'].max() - block_data['num_crashes']) / (block_data['num_crashes'].max() - block_data['num_crashes'].min()) \n",
    "\n",
    "# Experiment with larger weights for better granularity\n",
    "block_data['safety_score'] = ((block_data['streetlight_score'] * 60) +   \n",
    "                              (block_data['wattage_score'] * 40) +       \n",
    "                              (block_data['has_police_station'] * 40) + \n",
    "                              (block_data['crash_score'] * 20))         \n",
    "\n",
    "# Scale to 0–100 for a wider range\n",
    "block_data['safety_score'] = (block_data['safety_score'] / block_data['safety_score'].max()) * 100\n",
    "\n",
    "# Optionally scale down to 0–10\n",
    "block_data['safety_score'] = (block_data['safety_score'] / 10).round()"
   ]
  },
  {
   "cell_type": "code",
   "execution_count": null,
   "metadata": {},
   "outputs": [],
   "source": [
    "block_data['safety_score'].unique()"
   ]
  },
  {
   "cell_type": "code",
   "execution_count": null,
   "metadata": {},
   "outputs": [],
   "source": [
    "#change the type of safety score to int\n",
    "block_data['safety_score'] = block_data['safety_score'].astype(int)\n",
    "block_data.head()\n",
    "#delete columns safestay_score, num_streetlights_avg_wattage, num_crashes_has_police_station, streetlight_score, wattage_score, crash_score\n",
    "block_data2 = block_data.drop(columns=['safestay_score', 'num_streetlights', 'avg_wattage', 'num_crashes', 'has_police_station', 'streetlight_score', 'wattage_score', 'crash_score'])\n",
    "\n",
    "block_data3 = block_data2.rename(columns={\"safety_score\": \"safestay_score\"})\n",
    "\n",
    "#rearrange column ordering \n",
    "block_data3 = block_data3[['address', 'safestay_score', 'latitude', 'longitude', 'block']]\n",
    "block_data3.head()"
   ]
  },
  {
   "cell_type": "code",
   "execution_count": null,
   "metadata": {},
   "outputs": [],
   "source": [
    "block_data3[\"safestay_score\"].value_counts()"
   ]
  },
  {
   "cell_type": "code",
   "execution_count": null,
   "metadata": {},
   "outputs": [],
   "source": [
    "block_data3.head()"
   ]
  },
  {
   "cell_type": "code",
   "execution_count": null,
   "metadata": {},
   "outputs": [],
   "source": [
    "#export to csv \n",
    "block_data3.to_csv(\"/Users/stevenqie/Downloads/final_apartments_with_safestay_score.csv\", index=False)\n"
   ]
  }
 ],
 "metadata": {
  "kernelspec": {
   "display_name": ".venv",
   "language": "python",
   "name": "python3"
  },
  "language_info": {
   "codemirror_mode": {
    "name": "ipython",
    "version": 3
   },
   "file_extension": ".py",
   "mimetype": "text/x-python",
   "name": "python",
   "nbconvert_exporter": "python",
   "pygments_lexer": "ipython3",
   "version": "3.13.0"
  }
 },
 "nbformat": 4,
 "nbformat_minor": 2
}
